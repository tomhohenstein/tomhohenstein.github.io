{
 "metadata": {
  "name": "",
  "signature": "sha256:0e24ec4a3e9449ceea3641746c0598ee9260075cb6259745bdf379cd8f4420e0"
 },
 "nbformat": 3,
 "nbformat_minor": 0,
 "worksheets": []
}