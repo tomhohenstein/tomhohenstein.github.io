{
 "metadata": {
  "name": "",
  "signature": "sha256:b0cf4c90b644bac87886cdeeec0878eae94c1eff4757308d521bd453da77e4f0"
 },
 "nbformat": 3,
 "nbformat_minor": 0,
 "worksheets": [
  {
   "cells": [
    {
     "cell_type": "code",
     "collapsed": false,
     "input": [
      "import numpy as np \n",
      "import matplotlib.pylab as plt \n",
      "import time \n",
      "import dateutil "
     ],
     "language": "python",
     "metadata": {},
     "outputs": [],
     "prompt_number": 1
    },
    {
     "cell_type": "code",
     "collapsed": false,
     "input": [],
     "language": "python",
     "metadata": {},
     "outputs": []
    }
   ],
   "metadata": {}
  }
 ]
}