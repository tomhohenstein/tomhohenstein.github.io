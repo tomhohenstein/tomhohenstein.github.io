{
 "cells": [
  {
   "cell_type": "code",
   "execution_count": 1,
   "metadata": {
    "collapsed": true
   },
   "outputs": [],
   "source": [
    "#\n",
    "# A quick notebook to process some data from csv to json \n",
    "#"
   ]
  },
  {
   "cell_type": "code",
   "execution_count": 2,
   "metadata": {
    "collapsed": true
   },
   "outputs": [],
   "source": [
    "# grab pandas \n",
    "import pandas as pd \n",
    "# grab datetime for formatting dates\n",
    "from datetime import datetime"
   ]
  },
  {
   "cell_type": "code",
   "execution_count": 3,
   "metadata": {
    "collapsed": false
   },
   "outputs": [
    {
     "name": "stdout",
     "output_type": "stream",
     "text": [
      "(251, 6)\n"
     ]
    }
   ],
   "source": [
    "# load the data into a data frame \n",
    "df = pd.read_csv(\"https://www.google.com/finance/historical?output=csv&q=dva\")\n",
    "print(df.shape)"
   ]
  },
  {
   "cell_type": "code",
   "execution_count": 4,
   "metadata": {
    "collapsed": false
   },
   "outputs": [
    {
     "name": "stdout",
     "output_type": "stream",
     "text": [
      "        Date   Open   High    Low  Close   Volume\n",
      "0  30-Jun-17  64.21  65.29  64.11  64.76  1629150\n",
      "1  29-Jun-17  64.81  64.93  63.60  64.06   880785\n",
      "2  28-Jun-17  64.50  65.15  64.12  64.72   932358\n",
      "3  27-Jun-17  64.46  64.88  64.06  64.12  1005212\n",
      "4  26-Jun-17  63.86  64.89  63.77  64.45  1149985\n"
     ]
    }
   ],
   "source": [
    "# take a look at the first rows \n",
    "print(df.head())"
   ]
  },
  {
   "cell_type": "code",
   "execution_count": 5,
   "metadata": {
    "collapsed": false
   },
   "outputs": [
    {
     "name": "stdout",
     "output_type": "stream",
     "text": [
      "        Date   Volume\n",
      "0  30-Jun-17  1629150\n",
      "1  29-Jun-17   880785\n",
      "2  28-Jun-17   932358\n",
      "3  27-Jun-17  1005212\n",
      "4  26-Jun-17  1149985\n",
      "(251, 2)\n"
     ]
    }
   ],
   "source": [
    "# grab only date and volume \n",
    "df = df[[\"Date\", \"Volume\"]]\n",
    "print(df.head())\n",
    "print(df.shape)"
   ]
  },
  {
   "cell_type": "code",
   "execution_count": 6,
   "metadata": {
    "collapsed": false
   },
   "outputs": [
    {
     "name": "stdout",
     "output_type": "stream",
     "text": [
      "        Date   Volume\n",
      "0 2017-06-30  1629150\n",
      "1 2017-06-29   880785\n",
      "2 2017-06-28   932358\n",
      "3 2017-06-27  1005212\n",
      "4 2017-06-26  1149985\n"
     ]
    }
   ],
   "source": [
    "# Create a new data frame, \n",
    "# convert to date time so we can format it \n",
    "df_date_volume = pd.concat([pd.to_datetime(df[\"Date\"], format='%d-%b-%y'), df[\"Volume\"]], axis=1)\n",
    "print(df_date_volume.head())"
   ]
  },
  {
   "cell_type": "code",
   "execution_count": 7,
   "metadata": {
    "collapsed": false
   },
   "outputs": [],
   "source": [
    "# probably not the best way but the pandas .to_json functionality \n",
    "# was a bit too complicated for the time I wanted to spend on this \n",
    "\n",
    "json = \"[\"\n",
    "for index, row in df_date_volume.iterrows(): \n",
    "    json += '{ \"date\":' \n",
    "    # turn the date into a string and only take the chars we want\n",
    "    json += '\"' + str(row[\"Date\"])[0:10] + '\",'\n",
    "    # turn the volume into a string \n",
    "    json += '\"volume\":' + str(row[\"Volume\"])\n",
    "    json += '},'\n",
    "json += \"]\""
   ]
  },
  {
   "cell_type": "code",
   "execution_count": 8,
   "metadata": {
    "collapsed": false
   },
   "outputs": [
    {
     "name": "stdout",
     "output_type": "stream",
     "text": [
      ",]\n",
      "}]\n"
     ]
    }
   ],
   "source": [
    "print(json[-2:])\n",
    "# remove the last commea \n",
    "json = json[:-2] + ']'\n",
    "print(json[-2:])"
   ]
  },
  {
   "cell_type": "code",
   "execution_count": 9,
   "metadata": {
    "collapsed": false
   },
   "outputs": [],
   "source": [
    "file = open('dva.json', 'w')\n",
    "file.write(json)\n",
    "file.close()"
   ]
  }
 ],
 "metadata": {
  "kernelspec": {
   "display_name": "Python 3",
   "language": "python",
   "name": "python3"
  },
  "language_info": {
   "codemirror_mode": {
    "name": "ipython",
    "version": 3
   },
   "file_extension": ".py",
   "mimetype": "text/x-python",
   "name": "python",
   "nbconvert_exporter": "python",
   "pygments_lexer": "ipython3",
   "version": "3.6.1"
  }
 },
 "nbformat": 4,
 "nbformat_minor": 0
}
